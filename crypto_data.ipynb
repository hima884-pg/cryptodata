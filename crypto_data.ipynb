{
 "cells": [
  {
   "cell_type": "code",
   "execution_count": 1,
   "id": "49992d84-e670-4ecd-abff-ffd3a3fd410c",
   "metadata": {},
   "outputs": [],
   "source": [
    "import requests\n",
    "import pandas as pd\n",
    "import time\n",
    "import xlwings as xw"
   ]
  },
  {
   "cell_type": "code",
   "execution_count": 2,
   "id": "c50adbac-dc5c-4037-aa8c-3690cde3a881",
   "metadata": {},
   "outputs": [],
   "source": [
    "def fetch_crypto_data():\n",
    "    url = \"https://api.coingecko.com/api/v3/coins/markets\"\n",
    "    params = {\n",
    "        \"vs_currency\": \"usd\",\n",
    "        \"order\": \"market_cap_desc\",\n",
    "        \"per_page\": 50,\n",
    "        \"page\": 1,\n",
    "        \"sparkline\": \"false\",\n",
    "        \"price_change_percentage\": \"24h\"\n",
    "    }\n",
    "    try:\n",
    "        response = requests.get(url, params=params)\n",
    "        response.raise_for_status()  \n",
    "        data = response.json()\n",
    "        return data\n",
    "    except requests.exceptions.RequestException as e:\n",
    "        print(f\"Error fetching data: {e}\")\n",
    "        return []\n"
   ]
  },
  {
   "cell_type": "code",
   "execution_count": 3,
   "id": "34dcb798-a9fe-4e14-91cd-6e1080bef00d",
   "metadata": {},
   "outputs": [],
   "source": [
    "def analyze_data(data):\n",
    "    df = pd.DataFrame(data)\n",
    "    df = df[[\"name\", \"symbol\", \"current_price\", \"market_cap\", \"total_volume\", \"price_change_percentage_24h\"]]\n",
    "    df.columns = [\"Name\", \"Symbol\", \"Current Price (USD)\", \"Market Cap\", \"24h Trading Volume\", \"Price Change (24h %)\"]\n",
    "    \n",
    "    top_5 = df.nlargest(5, \"Market Cap\")\n",
    "    avg_price = df[\"Current Price (USD)\"].mean()\n",
    "    highest_change = df.loc[df[\"Price Change (24h %)\"].idxmax()]\n",
    "    lowest_change = df.loc[df[\"Price Change (24h %)\"].idxmin()]\n",
    "    \n",
    "    return df, top_5, avg_price, highest_change, lowest_change"
   ]
  },
  {
   "cell_type": "code",
   "execution_count": 4,
   "id": "88668462-3b11-43c6-ada2-3baf8a26866d",
   "metadata": {},
   "outputs": [],
   "source": [
    "def update_excel():\n",
    "    data = fetch_crypto_data()\n",
    "    if not data:\n",
    "        print(\"No data fetched.\")\n",
    "        return\n",
    "    \n",
    "    df, top_5, avg_price, highest_change, lowest_change = analyze_data(data)\n",
    "    \n",
    "    wb = xw.Book(\"crypto_live.xlsx\")\n",
    "    sheet1 = wb.sheets[\"Live Data\"]\n",
    "    sheet2 = wb.sheets[\"Analysis\"]\n",
    "    \n",
    "    sheet1.clear()\n",
    "    sheet1[\"A1\"].value = df\n",
    "    \n",
    "    sheet2.clear()\n",
    "    sheet2[\"A1\"].value = \"Top 5 Cryptocurrencies by Market Cap\"\n",
    "    sheet2[\"A3\"].value = top_5\n",
    "    sheet2[\"A10\"].value = f\"Average Price of Top 50: ${avg_price:.2f}\"\n",
    "    sheet2[\"A12\"].value = \"Highest 24h Change\"\n",
    "    sheet2[\"A13\"].value = highest_change\n",
    "    sheet2[\"A15\"].value = \"Lowest 24h Change\"\n",
    "    sheet2[\"A16\"].value = lowest_change\n",
    "    \n",
    "    print(\"Excel updated successfully!\")"
   ]
  },
  {
   "cell_type": "code",
   "execution_count": null,
   "id": "b1bacfdc-49c1-43a6-984e-6191886d4588",
   "metadata": {},
   "outputs": [
    {
     "name": "stdout",
     "output_type": "stream",
     "text": [
      "Starting live data update...\n",
      "Excel updated successfully!\n"
     ]
    }
   ],
   "source": [
    "if __name__ == \"__main__\":\n",
    "    print(\"Starting live data update...\")\n",
    "    try:\n",
    "        xw.Book(\"crypto_live.xlsx\")\n",
    "    except:\n",
    "        wb = xw.Book()\n",
    "        wb.sheets.add(\"Live Data\")\n",
    "        wb.sheets.add(\"Analysis\")\n",
    "        wb.sheets[\"Sheet1\"].delete()\n",
    "        wb.save(\"crypto_live.xlsx\")\n",
    "        wb.close()\n",
    "    \n",
    "    while True:\n",
    "        update_excel()\n",
    "        time.sleep(300)"
   ]
  },
  {
   "cell_type": "code",
   "execution_count": null,
   "id": "b7f8f1c3-6e85-43d5-8c22-217e574915dd",
   "metadata": {},
   "outputs": [],
   "source": []
  }
 ],
 "metadata": {
  "kernelspec": {
   "display_name": "Python 3 (ipykernel)",
   "language": "python",
   "name": "python3"
  },
  "language_info": {
   "codemirror_mode": {
    "name": "ipython",
    "version": 3
   },
   "file_extension": ".py",
   "mimetype": "text/x-python",
   "name": "python",
   "nbconvert_exporter": "python",
   "pygments_lexer": "ipython3",
   "version": "3.9.20"
  }
 },
 "nbformat": 4,
 "nbformat_minor": 5
}
